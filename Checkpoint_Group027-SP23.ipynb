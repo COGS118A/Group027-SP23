{
 "cells": [
  {
   "attachments": {},
   "cell_type": "markdown",
   "metadata": {},
   "source": [
    "# COGS 118A - Project Checkpoint"
   ]
  },
  {
   "attachments": {},
   "cell_type": "markdown",
   "metadata": {},
   "source": [
    "# Names\n",
    "\n",
    "Hopefully your team is at least this good. Obviously you should replace these with your names.\n",
    "\n",
    "- Nathaniel Nguyen  \n",
    "- Jeff Sun\n",
    "- Tin Pham\n",
    "- Jose Deleon"
   ]
  },
  {
   "attachments": {},
   "cell_type": "markdown",
   "metadata": {},
   "source": [
    "# Abstract \n",
    "For our project we are aiming to create a model that can help estimate the price of a home based on a list of criteria. From our background research we have seen that with rapidly increasing home prices, many people are struggling to find homes that fit in their criteria and also fit their budget. We have a large dataset that contains 1000 observations of past housing prices with 18 separate variables. Some of the variables are the number of bathrooms, number of bedrooms, and zip code. This past data also contains the price for houses in these criteria allowing us too create a classifier. We also are aiming through this process to identify the variables that are most influential in the price/prediction. In order to evaluate the data we will split the data on a training/testing set where we compare our models prediction compared to the actual price of the home with the given criteria."
   ]
  },
  {
   "attachments": {},
   "cell_type": "markdown",
   "metadata": {},
   "source": [
    "# Background\n",
    "\n",
    "We performed some research on the trends of home ownership prices and also performed some research on why it is an important topic. Homeownership is a longtime stable of the American economy and Article 1 below explains “78% of Americans still associate homeownership with the ‘American Dream’”<a name=\"kcmcrew\"></a>[<sup>[1]</sup>](#kcmnote). The financial independence of being able to claim ownership of where you live is extremely important, but despite this desire, according to Article 2 below “Since just 2000, home prices have grown 121% faster than the cost of general goods” <a name=\"candiloro\"></a>[<sup>[2]</sup>](#candiloronote) People are struggling to purchase homes which is why this is a problem we want to tackle with a model. Utilizing a wide variety of criteria we aim to be able to predict the price of a home based on data to help people to see if homes are within their budget. Article 3 below says “Nearly 30 million Americans plan to buy a home in 2023” and our model will help these people understand the market and how specific criteria influence home prices <a name=\"vise\"></a>[<sup>[3]</sup>](#visenote)."
   ]
  },
  {
   "attachments": {},
   "cell_type": "markdown",
   "metadata": {},
   "source": [
    "# Problem Statement\n",
    "Ever since 2000, there has been a rapid increase in house prices in the United States. Because of this, we've seen an all-time high on the number of Americans who are unable to afford houses. However, with the amount of things simultaneously going on in the world, it is unclear what variables are causing this change. To address this issue, we intend to use a machine-learning model such as SVMs or Logistic Regression to predict the house price based on its attributes like size, number of bed/bathrooms, number of stories, and a few others. We can quantify this problem by thinking of the house price as a function of the combination of its attributes. We can also measure the severity of this problem by the relationship between house prices and the number of people who cannot afford them. This is of course a recurring problem because there has been a consistent rise in house prices every year for the past two decades which allows us to collect even more data over time."
   ]
  },
  {
   "attachments": {},
   "cell_type": "markdown",
   "metadata": {},
   "source": [
    "# Data\n",
    "\n",
    "UPDATED FROM PROPOSAL!\n",
    "\n",
    "You should have obtained and cleaned (if necessary) data you will use for this project.\n",
    "\n",
    "Please give the following infomration for each dataset you are using\n",
    "- link/reference to obtain it\n",
    "- description of the size of the dataset (# of variables, # of observations)\n",
    "- what an observation consists of\n",
    "- what some critical variables are, how they are represented\n",
    "- any special handling, transformations, cleaning, etc you have done should be demonstrated here!\n",
    "\n",
    "\n",
    "The data can be found at the following link (https://www.kaggle.com/datasets/mohamedbakrey/housecsv). There are 999 observations with 18 separate variables. Each observation represents a house containing details like the price, # of bedrooms, number of bathrooms, number of floors, the year it was built, and more. Some critical variables could be the square feet and price which are both represented as integers in this dataset. Thankfully, the dataset is pretty clean to start off with, so there may not be many heavy changes that need to be made to the dataset."
   ]
  },
  {
   "cell_type": "code",
   "execution_count": 93,
   "metadata": {},
   "outputs": [
    {
     "data": {
      "text/html": [
       "<div>\n",
       "<style scoped>\n",
       "    .dataframe tbody tr th:only-of-type {\n",
       "        vertical-align: middle;\n",
       "    }\n",
       "\n",
       "    .dataframe tbody tr th {\n",
       "        vertical-align: top;\n",
       "    }\n",
       "\n",
       "    .dataframe thead th {\n",
       "        text-align: right;\n",
       "    }\n",
       "</style>\n",
       "<table border=\"1\" class=\"dataframe\">\n",
       "  <thead>\n",
       "    <tr style=\"text-align: right;\">\n",
       "      <th></th>\n",
       "      <th>bedrooms</th>\n",
       "      <th>bathrooms</th>\n",
       "      <th>sqft_living</th>\n",
       "      <th>sqft_lot</th>\n",
       "      <th>floors</th>\n",
       "      <th>waterfront</th>\n",
       "      <th>view</th>\n",
       "      <th>condition</th>\n",
       "      <th>grade</th>\n",
       "      <th>sqft_above</th>\n",
       "      <th>sqft_basement</th>\n",
       "      <th>yr_built</th>\n",
       "      <th>yr_renovated</th>\n",
       "      <th>zipcode</th>\n",
       "      <th>lat</th>\n",
       "      <th>long</th>\n",
       "      <th>sqft_living15</th>\n",
       "      <th>price</th>\n",
       "    </tr>\n",
       "  </thead>\n",
       "  <tbody>\n",
       "    <tr>\n",
       "      <th>0</th>\n",
       "      <td>3.0</td>\n",
       "      <td>1.00</td>\n",
       "      <td>1180.0</td>\n",
       "      <td>5650.0</td>\n",
       "      <td>1.0</td>\n",
       "      <td>0.0</td>\n",
       "      <td>0.0</td>\n",
       "      <td>3.0</td>\n",
       "      <td>7.0</td>\n",
       "      <td>1180.0</td>\n",
       "      <td>0.0</td>\n",
       "      <td>1955.0</td>\n",
       "      <td>0.0</td>\n",
       "      <td>98178.0</td>\n",
       "      <td>47.5112</td>\n",
       "      <td>-122.257</td>\n",
       "      <td>1340.0</td>\n",
       "      <td>22.19</td>\n",
       "    </tr>\n",
       "    <tr>\n",
       "      <th>1</th>\n",
       "      <td>3.0</td>\n",
       "      <td>2.25</td>\n",
       "      <td>2570.0</td>\n",
       "      <td>7242.0</td>\n",
       "      <td>2.0</td>\n",
       "      <td>0.0</td>\n",
       "      <td>0.0</td>\n",
       "      <td>3.0</td>\n",
       "      <td>7.0</td>\n",
       "      <td>2170.0</td>\n",
       "      <td>400.0</td>\n",
       "      <td>1951.0</td>\n",
       "      <td>1991.0</td>\n",
       "      <td>98125.0</td>\n",
       "      <td>47.7210</td>\n",
       "      <td>-122.319</td>\n",
       "      <td>1690.0</td>\n",
       "      <td>53.80</td>\n",
       "    </tr>\n",
       "    <tr>\n",
       "      <th>2</th>\n",
       "      <td>2.0</td>\n",
       "      <td>1.00</td>\n",
       "      <td>770.0</td>\n",
       "      <td>10000.0</td>\n",
       "      <td>1.0</td>\n",
       "      <td>0.0</td>\n",
       "      <td>0.0</td>\n",
       "      <td>3.0</td>\n",
       "      <td>6.0</td>\n",
       "      <td>770.0</td>\n",
       "      <td>0.0</td>\n",
       "      <td>1933.0</td>\n",
       "      <td>0.0</td>\n",
       "      <td>98028.0</td>\n",
       "      <td>47.7379</td>\n",
       "      <td>-122.233</td>\n",
       "      <td>2720.0</td>\n",
       "      <td>18.00</td>\n",
       "    </tr>\n",
       "    <tr>\n",
       "      <th>3</th>\n",
       "      <td>4.0</td>\n",
       "      <td>3.00</td>\n",
       "      <td>1960.0</td>\n",
       "      <td>5000.0</td>\n",
       "      <td>1.0</td>\n",
       "      <td>0.0</td>\n",
       "      <td>0.0</td>\n",
       "      <td>5.0</td>\n",
       "      <td>7.0</td>\n",
       "      <td>1050.0</td>\n",
       "      <td>910.0</td>\n",
       "      <td>1965.0</td>\n",
       "      <td>0.0</td>\n",
       "      <td>98136.0</td>\n",
       "      <td>47.5208</td>\n",
       "      <td>-122.393</td>\n",
       "      <td>1360.0</td>\n",
       "      <td>60.40</td>\n",
       "    </tr>\n",
       "    <tr>\n",
       "      <th>4</th>\n",
       "      <td>3.0</td>\n",
       "      <td>2.00</td>\n",
       "      <td>1680.0</td>\n",
       "      <td>8080.0</td>\n",
       "      <td>1.0</td>\n",
       "      <td>0.0</td>\n",
       "      <td>0.0</td>\n",
       "      <td>3.0</td>\n",
       "      <td>8.0</td>\n",
       "      <td>1680.0</td>\n",
       "      <td>0.0</td>\n",
       "      <td>1987.0</td>\n",
       "      <td>0.0</td>\n",
       "      <td>98074.0</td>\n",
       "      <td>47.6168</td>\n",
       "      <td>-122.045</td>\n",
       "      <td>1800.0</td>\n",
       "      <td>51.00</td>\n",
       "    </tr>\n",
       "  </tbody>\n",
       "</table>\n",
       "</div>"
      ],
      "text/plain": [
       "   bedrooms  bathrooms  sqft_living  sqft_lot  floors  waterfront  view  \\\n",
       "0       3.0       1.00       1180.0    5650.0     1.0         0.0   0.0   \n",
       "1       3.0       2.25       2570.0    7242.0     2.0         0.0   0.0   \n",
       "2       2.0       1.00        770.0   10000.0     1.0         0.0   0.0   \n",
       "3       4.0       3.00       1960.0    5000.0     1.0         0.0   0.0   \n",
       "4       3.0       2.00       1680.0    8080.0     1.0         0.0   0.0   \n",
       "\n",
       "   condition  grade  sqft_above  sqft_basement  yr_built  yr_renovated  \\\n",
       "0        3.0    7.0      1180.0            0.0    1955.0           0.0   \n",
       "1        3.0    7.0      2170.0          400.0    1951.0        1991.0   \n",
       "2        3.0    6.0       770.0            0.0    1933.0           0.0   \n",
       "3        5.0    7.0      1050.0          910.0    1965.0           0.0   \n",
       "4        3.0    8.0      1680.0            0.0    1987.0           0.0   \n",
       "\n",
       "   zipcode      lat     long  sqft_living15  price  \n",
       "0  98178.0  47.5112 -122.257         1340.0  22.19  \n",
       "1  98125.0  47.7210 -122.319         1690.0  53.80  \n",
       "2  98028.0  47.7379 -122.233         2720.0  18.00  \n",
       "3  98136.0  47.5208 -122.393         1360.0  60.40  \n",
       "4  98074.0  47.6168 -122.045         1800.0  51.00  "
      ]
     },
     "execution_count": 93,
     "metadata": {},
     "output_type": "execute_result"
    }
   ],
   "source": [
    "import numpy as np\n",
    "import pandas as pd\n",
    "from sklearn.model_selection import train_test_split\n",
    "from sklearn.metrics import mean_squared_error\n",
    "from sklearn.preprocessing import StandardScaler\n",
    "from sklearn.linear_model import LinearRegression\n",
    "from sklearn.ensemble import RandomForestRegressor\n",
    "from sklearn.svm import SVR\n",
    "from sklearn.ensemble import GradientBoostingRegressor\n",
    "import matplotlib.pyplot as plt\n",
    "\n",
    "\n",
    "house_data = pd.read_csv('houses.csv')\n",
    "house_data.head()"
   ]
  },
  {
   "cell_type": "code",
   "execution_count": 94,
   "metadata": {},
   "outputs": [
    {
     "data": {
      "text/html": [
       "<div>\n",
       "<style scoped>\n",
       "    .dataframe tbody tr th:only-of-type {\n",
       "        vertical-align: middle;\n",
       "    }\n",
       "\n",
       "    .dataframe tbody tr th {\n",
       "        vertical-align: top;\n",
       "    }\n",
       "\n",
       "    .dataframe thead th {\n",
       "        text-align: right;\n",
       "    }\n",
       "</style>\n",
       "<table border=\"1\" class=\"dataframe\">\n",
       "  <thead>\n",
       "    <tr style=\"text-align: right;\">\n",
       "      <th></th>\n",
       "      <th>bedrooms</th>\n",
       "      <th>bathrooms</th>\n",
       "      <th>sqft_living</th>\n",
       "      <th>sqft_lot</th>\n",
       "      <th>floors</th>\n",
       "      <th>waterfront</th>\n",
       "      <th>view</th>\n",
       "      <th>condition</th>\n",
       "      <th>grade</th>\n",
       "      <th>sqft_above</th>\n",
       "      <th>sqft_basement</th>\n",
       "      <th>yr_built</th>\n",
       "      <th>yr_renovated</th>\n",
       "      <th>zipcode</th>\n",
       "      <th>lat</th>\n",
       "      <th>long</th>\n",
       "      <th>sqft_living15</th>\n",
       "      <th>price</th>\n",
       "    </tr>\n",
       "  </thead>\n",
       "  <tbody>\n",
       "    <tr>\n",
       "      <th>999</th>\n",
       "      <td>NaN</td>\n",
       "      <td>NaN</td>\n",
       "      <td>NaN</td>\n",
       "      <td>NaN</td>\n",
       "      <td>NaN</td>\n",
       "      <td>NaN</td>\n",
       "      <td>NaN</td>\n",
       "      <td>NaN</td>\n",
       "      <td>NaN</td>\n",
       "      <td>NaN</td>\n",
       "      <td>NaN</td>\n",
       "      <td>NaN</td>\n",
       "      <td>NaN</td>\n",
       "      <td>NaN</td>\n",
       "      <td>NaN</td>\n",
       "      <td>NaN</td>\n",
       "      <td>NaN</td>\n",
       "      <td>NaN</td>\n",
       "    </tr>\n",
       "  </tbody>\n",
       "</table>\n",
       "</div>"
      ],
      "text/plain": [
       "     bedrooms  bathrooms  sqft_living  sqft_lot  floors  waterfront  view  \\\n",
       "999       NaN        NaN          NaN       NaN     NaN         NaN   NaN   \n",
       "\n",
       "     condition  grade  sqft_above  sqft_basement  yr_built  yr_renovated  \\\n",
       "999        NaN    NaN         NaN            NaN       NaN           NaN   \n",
       "\n",
       "     zipcode  lat  long  sqft_living15  price  \n",
       "999      NaN  NaN   NaN            NaN    NaN  "
      ]
     },
     "execution_count": 94,
     "metadata": {},
     "output_type": "execute_result"
    }
   ],
   "source": [
    "missing_rows = house_data.isnull().any(axis=1)\n",
    "rows_with_missing_data = house_data[missing_rows]\n",
    "rows_with_missing_data"
   ]
  },
  {
   "cell_type": "code",
   "execution_count": 95,
   "metadata": {},
   "outputs": [
    {
     "data": {
      "text/plain": [
       "(999, 18)"
      ]
     },
     "execution_count": 95,
     "metadata": {},
     "output_type": "execute_result"
    }
   ],
   "source": [
    "house_data = house_data.drop(999)\n",
    "house_data.shape\n"
   ]
  },
  {
   "attachments": {},
   "cell_type": "markdown",
   "metadata": {},
   "source": [
    "# Proposed Solution\n",
    "\n",
    "We intend to use independent variables like the number of bedrooms and construction date in an effort to predict the final price of the house. This means that we should start with EDA as well as feature selection so that we can narrow down from the 17 independent variables that we’re starting off with. As for actually predicting the price we can use SVMs to accomplish this. Once we split the dataset into training and testing sets we can train the SVM on the training set such that it tries to minimize its errors. Of course, once we have a trained model we can test it on the test set and take note of its performance through tools like MSE. Then we can use tools like Grid Search to try and finetune our parameters such that we can optimize the overall model. Once, we’ve finished those steps we can finally deploy our model on unseen data and measure how well it performs. We feel this solution can work because SVMs are well suited for predicting continuous variables and it will be fed with the variables that we feel are the most important in predicting the price. This means that the model will be built upon the most quality data available to us instead of basing it on more unreliable variables. The most straightforward way we can test our model will be against the test set that we split at the beginning. This will allow us to gain a glimpse into how effective our model is against data that it wasn’t explicitly built on without requiring us to find another similar dataset."
   ]
  },
  {
   "attachments": {},
   "cell_type": "markdown",
   "metadata": {},
   "source": [
    "# Evaluation Metrics\n",
    "\n",
    "Propose at least one evaluation metric that can be used to quantify the performance of both the benchmark model and the solution model. The evaluation metric(s) you propose should be appropriate given the context of the data, the problem statement, and the intended solution. Describe how the evaluation metric(s) are derived and provide an example of their mathematical representations (if applicable). Complex evaluation metrics should be clearly defined and quantifiable (can be expressed in mathematical or logical terms).\n",
    "\n",
    "One evaluation metric that can be used to quantify the performance of both the benchmark model and the solution model in the context of housing price prediction is Mean Squared Error (MSE).\n",
    "MSE calculates the average squared difference between the predicted values and the actual values. It measures the average magnitude of the error, with larger errors being penalized more heavily. \n",
    "\n",
    "MSE is derived by taking the average of the squared differences between the predicted and actual values:\n",
    "\n",
    "\\begin{align*}\n",
    "MSE = \\sum_{i=1}^{n}(y_i - \\hat{y}_i)^2\n",
    "\\end{align*}\n",
    "\n",
    "MSE is widely used in regression problems and provides a measure of the average prediction error. For example if given the following predictions from a model:\n",
    "| Acutal Price ($y$) | Predicted Price  ($\\hat{y}$)|\n",
    "|---|---|\n",
    "| 150000       | 155000          |\n",
    "| 180000       | 175000 |\n",
    "| 200000 | 195000|\n",
    "|220000 | 230000|\n",
    "|250000 | 240000|\n",
    "\n",
    "$MSE = \\frac{(155,000−150,000)^2 + (175,000−180,000)^2 + (195,000−200,000)^2 + (230,000−220,000)^2 + (240,000−250,000)^2}{5} = 175,000,000.$ \n",
    "\n",
    "This would mean that, on average, the predicted value of housing prices deviates from the the actual price by $\\sqrt{175,000,000} = 175,000$ dollars. We can use this evaluation metric to compare the performance of various models where a smaller MSE would typically represent better performance."
   ]
  },
  {
   "attachments": {},
   "cell_type": "markdown",
   "metadata": {},
   "source": [
    "# Preliminary results\n",
    "\n",
    "NEW SECTION!\n",
    "\n",
    "Please show any preliminary results you have managed to obtain.\n",
    "\n",
    "Examples would include:\n",
    "- Analyzing the suitability of a dataset or alogrithm for prediction/solving your problem \n",
    "- Performing feature selection or hand-designing features from the raw data. Describe the features available/created and/or show the code for selection/creation\n",
    "- Showing the performance of a base model/hyper-parameter setting.  Solve the task with one \"default\" algorithm and characterize the performance level of that base model.\n",
    "- Learning curves or validation curves for a particular model\n",
    "- Tables/graphs showing the performance of different models/hyper-parameters\n",
    "\n"
   ]
  },
  {
   "cell_type": "code",
   "execution_count": 96,
   "metadata": {},
   "outputs": [
    {
     "data": {
      "text/plain": [
       "(999, 14)"
      ]
     },
     "execution_count": 96,
     "metadata": {},
     "output_type": "execute_result"
    }
   ],
   "source": [
    "house_data = house_data.drop(['condition', 'grade', 'lat', 'long'], axis=1)\n",
    "house_data.shape"
   ]
  },
  {
   "cell_type": "code",
   "execution_count": 97,
   "metadata": {},
   "outputs": [],
   "source": [
    "X = house_data.drop('price', axis=1)  \n",
    "y = house_data['price']\n",
    "X_train, X_test, y_train, y_test = train_test_split(X, y, test_size=0.2, random_state=1)\n",
    "scaler = StandardScaler()"
   ]
  },
  {
   "cell_type": "code",
   "execution_count": 98,
   "metadata": {},
   "outputs": [],
   "source": [
    "#Scale the features \n",
    "X_train_scaled = scaler.fit_transform(X_train)\n",
    "X_test_scaled = scaler.transform(X_test)\n"
   ]
  },
  {
   "cell_type": "code",
   "execution_count": 99,
   "metadata": {},
   "outputs": [],
   "source": [
    "#Make a prediction using SVM\n",
    "svm = SVR(kernel='linear')\n",
    "svm.fit(X_train_scaled, y_train)\n",
    "svm_y_pred = svm.predict(X_test_scaled)"
   ]
  },
  {
   "cell_type": "code",
   "execution_count": 100,
   "metadata": {},
   "outputs": [],
   "source": [
    "#Make a prediction using linear regression\n",
    "linear_regression = LinearRegression()\n",
    "linear_regression.fit(X_train_scaled, y_train)\n",
    "lr_y_pred = linear_regression.predict(X_test_scaled)"
   ]
  },
  {
   "cell_type": "code",
   "execution_count": 101,
   "metadata": {},
   "outputs": [],
   "source": [
    "#Make a prediction using Random Forest\n",
    "random_forest = RandomForestRegressor()\n",
    "random_forest.fit(X_train_scaled, y_train)\n",
    "rf_y_pred = random_forest.predict(X_test_scaled)"
   ]
  },
  {
   "cell_type": "code",
   "execution_count": 102,
   "metadata": {},
   "outputs": [],
   "source": [
    "#Make a prediction using Gradient Boosting\n",
    "gradient_boosting = GradientBoostingRegressor()\n",
    "gradient_boosting.fit(X_train_scaled, y_train)\n",
    "gb_y_pred = gradient_boosting.predict(X_test_scaled)"
   ]
  },
  {
   "cell_type": "code",
   "execution_count": 103,
   "metadata": {},
   "outputs": [
    {
     "name": "stdout",
     "output_type": "stream",
     "text": [
      "Mean Squared Error for SVM: 434.36384329758863\n",
      "Mean Squared Error for Linear Regression: 394.4667017679451\n",
      "Mean Squared Error: 319.29840542383806\n",
      "Mean Squared Error: 317.73102398337295\n"
     ]
    }
   ],
   "source": [
    "sv_mse = mean_squared_error(y_test, svm_y_pred)\n",
    "print(\"Mean Squared Error for SVM:\", sv_mse)\n",
    "lr_mse = mean_squared_error(y_test, lr_y_pred)\n",
    "print(\"Mean Squared Error for Linear Regression:\", lr_mse)\n",
    "rf_mse = mean_squared_error(y_test, rf_y_pred)\n",
    "print(\"Mean Squared Error for Random Forests:\", rf_mse)\n",
    "gb_mse = mean_squared_error(y_test, gb_y_pred)\n",
    "print(\"Mean Squared Error for Gradient Boosting:\", gb_mse)"
   ]
  },
  {
   "attachments": {},
   "cell_type": "markdown",
   "metadata": {},
   "source": [
    "# Ethics & Privacy"
   ]
  },
  {
   "attachments": {},
   "cell_type": "markdown",
   "metadata": {},
   "source": [
    "Ethical concerns:\n",
    "1. Are people's privacy being invaded during data collection\n",
    "2. How secure is the data of other people's properties\n",
    "3. Are people's identity at stake\n",
    "4. Is our dataset biased\n",
    "5. Is our model fair across all groups of datapoints\n",
    "\n",
    "Possible solutions:\n",
    "1. The data collectors are required to inform the residents about the data being collected and explicitly ask them for consent on whether the data can be collected or not\n",
    "2. We implement a system that erases all the data of the house when it is no longer need\n",
    "3. Personally identifiable will be minimized or not collected at all since they're not really needed in this case\n",
    "4. For our dataset, we can do a background check to see who provided and collected the data and if they're someone with credibility\n",
    "5. We can use different groups of data samples when testing our model so that we can average across all groups making it a less biased model\n"
   ]
  },
  {
   "attachments": {},
   "cell_type": "markdown",
   "metadata": {},
   "source": [
    "# Team Expectations "
   ]
  },
  {
   "attachments": {},
   "cell_type": "markdown",
   "metadata": {},
   "source": [
    "Put things here that cement how you will interact/communicate as a team, how you will handle conflict and difficulty, how you will handle making decisions and setting goals/schedule, how much work you expect from each other, how you will handle deadlines, etc...\n",
    "* Communication: respond in no more than 6 hours, expected to be reachable via iMessage or discord\n",
    "* Be able to devote enough time to meet deadlines within the appropriate time constraint\n",
    "* Atleast once a week agreement to meet\n",
    "* Be flexible to other ideas and changes\n",
    "* For conflict resolution: Try to avoid public confrontations and handle conflicts in private, otherwise group resolution will be necessary\n",
    "* Any further unresolved conflicts will be mentioned to the TA/Professor"
   ]
  },
  {
   "attachments": {},
   "cell_type": "markdown",
   "metadata": {},
   "source": [
    "# Project Timeline Proposal"
   ]
  },
  {
   "attachments": {},
   "cell_type": "markdown",
   "metadata": {},
   "source": [
    "Replace this with something meaningful that is appropriate for your needs. It doesn't have to be something that fits this format.  It doesn't have to be set in stone... \"no battle plan survives contact with the enemy\". But you need a battle plan nonetheless, and you need to keep it updated so you understand what you are trying to accomplish, who's responsible for what, and what the expected due dates are for each item.\n",
    "\n",
    "MEET EVERY FRIDAY\n",
    "\n",
    "| Meeting Date  | Meeting Time| Completed Before Meeting  | Discuss at Meeting |\n",
    "|---|---|---|---|\n",
    "| 5/12  |  4 PM |  Brainstorm topics/questions (all)  | Determine best form of communication; begin background research; Work on Proposal | \n",
    "| 5/17  | 4 PM  | Brainstorm topics/questions | Discuss ideal datasets; decide on final project topic; finalize proposal | \n",
    "| 5/19  |  4 PM |  Import & Wrangle Data | Discuss model selection; EDA; feature selection | \n",
    "| 5/26  | 4 PM  |  Train various models | Discuss model evaluation/various evaluation metrics   |\n",
    "| 6/2  | 4 PM  | Compute evaluation metrics | Discuss finalizing model selection and fine-tuning   |\n",
    "| 6/9  | 4 PM  | Finalize Model | Finish model evaluation; discuss analysis/takeaways |\n",
    "| 6/11  | 4 PM  | Complete final touches| Discuss/edit full project |\n"
   ]
  },
  {
   "attachments": {},
   "cell_type": "markdown",
   "metadata": {},
   "source": [
    "# Footnotes\n",
    "<a name=\"kcmcrew\"></a>1.[^](#kcm): KCM. (8 Nov 2022) The Majority of Americans Still View Homeownership as the American Dream. *Keeping Current Matters*. https://www.keepingcurrentmatters.com/2022/11/08/the-majority-of-americans-still-view-homeownership-as-the-american-dream/#:~:text=Over%20time%2C%20owning%20a%20home,homeownership%20with%20the%20'American%20dream <br>\n",
    "<a name=\"candiloro\"></a>2.[^](#candiloro): Candiloro, T. (28 Mar 2023) Home Prices vs. Inflation: Why Millennials Can't Afford Homes (2022 Data) *Anytime Estimate*. https://anytimeestimate.com/research/housing-prices-vs-inflation/#:~:text=Even%20since%20just%202000%2C%20home,exceeded%20overall%20inflation%20by%20168%25 <br>\n",
    "<a name=\"vise\"></a>3.[^](#vise): Visé de, D. (24 Jan 2023) Survey finds Americans wildly misinformed on housing market *The Hill*. https://thehill.com/business/3827057-survey-finds-americans-wildly-misinformed-on-housing-market/#:~:text=Nearly%2030%20million%20Americans%20plan,existing%20homes%20sold%20in%202021 <br>"
   ]
  },
  {
   "cell_type": "code",
   "execution_count": null,
   "metadata": {},
   "outputs": [],
   "source": []
  }
 ],
 "metadata": {
  "kernelspec": {
   "display_name": "Python 3",
   "language": "python",
   "name": "python3"
  },
  "language_info": {
   "codemirror_mode": {
    "name": "ipython",
    "version": 3
   },
   "file_extension": ".py",
   "mimetype": "text/x-python",
   "name": "python",
   "nbconvert_exporter": "python",
   "pygments_lexer": "ipython3",
   "version": "3.10.11"
  }
 },
 "nbformat": 4,
 "nbformat_minor": 2
}

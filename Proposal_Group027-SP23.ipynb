{
 "cells": [
  {
   "attachments": {},
   "cell_type": "markdown",
   "metadata": {},
   "source": [
    "# COGS 118A- Project Proposal"
   ]
  },
  {
   "attachments": {},
   "cell_type": "markdown",
   "metadata": {},
   "source": [
    "# Project Description\n",
    "\n",
    "You will design and execute a machine learning project. There are a few constraints on the nature of the allowed project. \n",
    "- The problem addressed will not be a \"toy problem\" or \"common training students problem\" like mtcars, iris, palmer penguins etc.\n",
    "- The dataset will have >1k observations and >5 variables. I'd prefer more like >10k observations and >10 variables. A general rule is that if you have >100x more observations than variables, your solution will likely generalize a lot better. The goal of training a supervised machine learning model is to learn the underlying pattern in a dataset in order to generalize well to unseen data, so choosing a large dataset is very important.\n",
    "\n",
    "- The project will include a model selection and/or feature selection component where you will be looking for the best setup to maximize the performance of your ML system.\n",
    "- You will evaluate the performance of your ML system using more than one appropriate metric\n",
    "- You will be writing a report describing and discussing these accomplishments\n",
    "\n",
    "\n",
    "Feel free to delete this description section when you hand in your proposal."
   ]
  },
  {
   "attachments": {},
   "cell_type": "markdown",
   "metadata": {},
   "source": [
    "### Peer Review\n",
    "\n",
    "You will all have an opportunity to look at the Project Proposals of other groups to fuel your creativity and get more ideas for how you can improve your own projects. \n",
    "\n",
    "Both the project proposal and project checkpoint will have peer review."
   ]
  },
  {
   "attachments": {},
   "cell_type": "markdown",
   "metadata": {},
   "source": [
    "# Names\n",
    "\n",
    "Hopefully your team is at least this good. Obviously you should replace these with your names.\n",
    "\n",
    "- Nathaniel Nguyen  \n",
    "- Jeff Sun\n",
    "- Tin Pham\n",
    "- Jose Deleon"
   ]
  },
  {
   "attachments": {},
   "cell_type": "markdown",
   "metadata": {},
   "source": [
    "# Abstract \n",
    "For our project we are aiming to create a model that can help estimate the price of a home based on a list of criteria. From our background research we have seen that with rapidly increasing home prices, many people are struggling to find homes that fit in their criteria and also fit their budget. We have a large dataset that contains 1000 observations of past housing prices with 18 separate variables. Some of the variables are the number of bathrooms, number of bedrooms, and zip code. This past data also contains the price for houses in these criteria allowing us too create a classifier. We also are aiming through this process to identify the variables that are most influential in the price/prediction. In order to evaluate the data we will split the data on a training/testing set where we compare our models prediction compared to the actual price of the home with the given criteria."
   ]
  },
  {
   "attachments": {},
   "cell_type": "markdown",
   "metadata": {},
   "source": [
    "# Background\n",
    "\n",
    "We performed some research on the trends of home ownership prices and also performed some research on why it is an important topic. Homeownership is a longtime stable of the American economy and Article 1 below explains “78% of Americans still associate homeownership with the ‘American Dream’”<a name=\"kcmcrew\"></a>[<sup>[1]</sup>](#kcmnote). The financial independence of being able to claim ownership of where you live is extremely important, but despite this desire, according to Article 2 below “Since just 2000, home prices have grown 121% faster than the cost of general goods” <a name=\"candiloro\"></a>[<sup>[2]</sup>](#candiloronote) People are struggling to purchase homes which is why this is a problem we want to tackle with a model. Utilizing a wide variety of criteria we aim to be able to predict the price of a home based on data to help people to see if homes are within their budget. Article 3 below says “Nearly 30 million Americans plan to buy a home in 2023” and our model will help these people understand the market and how specific criteria influence home prices <a name=\"vise\"></a>[<sup>[3]</sup>](#visenote)."
   ]
  },
  {
   "attachments": {},
   "cell_type": "markdown",
   "metadata": {},
   "source": [
    "# Problem Statement\n",
    "Ever since 2000, there has been a rapid increase in house prices in the United States. Because of this, we've seen an all-time high on the number of Americans who are unable to afford houses. However, with the amount of things simultaneously going on in the world, it is unclear what variables are causing this change. To address this issue, we intend to use a machine-learning model such as SVMs or Logistic Regression to predict the house price based on its attributes like size, number of bed/bathrooms, number of stories, and a few others. We can quantify this problem by thinking of the house price as a function of the combination of its attributes. We can also measure the severity of this problem by the relationship between house prices and the number of people who cannot afford them. This is of course a recurring problem because there has been a consistent rise in house prices every year for the past two decades which allows us to collect even more data over time."
   ]
  },
  {
   "attachments": {},
   "cell_type": "markdown",
   "metadata": {},
   "source": [
    "# Data\n",
    "\n",
    "The data can be found at the following link (https://www.kaggle.com/datasets/mohamedbakrey/housecsv). There are 999 observations with 18 separate variables. Each observation represents a house containing details like the price, # of bedrooms, number of bathrooms, number of floors, the year it was built, and more. Some critical variables could be the square feet and price which are both represented as integers in this dataset. Thankfully, the dataset is pretty clean to start off with, so there may not be many heavy changes that need to be made to the dataset."
   ]
  },
  {
   "attachments": {},
   "cell_type": "markdown",
   "metadata": {},
   "source": [
    "# Proposed Solution\n",
    "\n",
    "We intend to use independent variables like the number of bedrooms and construction date in an effort to predict the final price of the house. This means that we should start with EDA as well as feature selection so that we can narrow down from the 17 independent variables that we’re starting off with. As for actually predicting the price we can use SVMs to accomplish this. Once we split the dataset into training and testing sets we can train the SVM on the training set such that it tries to minimize its errors. Of course, once we have a trained model we can test it on the test set and take note of its performance through tools like MSE. Then we can use tools like Grid Search to try and finetune our parameters such that we can optimize the overall model. Once, we’ve finished those steps we can finally deploy our model on unseen data and measure how well it performs. We feel this solution can work because SVMs are well suited for predicting continuous variables and it will be fed with the variables that we feel are the most important in predicting the price. This means that the model will be built upon the most quality data available to us instead of basing it on more unreliable variables. The most straightforward way we can test our model will be against the test set that we split at the beginning. This will allow us to gain a glimpse into how effective our model is against data that it wasn’t explicitly built on without requiring us to find another similar dataset."
   ]
  },
  {
   "attachments": {},
   "cell_type": "markdown",
   "metadata": {},
   "source": [
    "# Evaluation Metrics\n",
    "\n",
    "Propose at least one evaluation metric that can be used to quantify the performance of both the benchmark model and the solution model. The evaluation metric(s) you propose should be appropriate given the context of the data, the problem statement, and the intended solution. Describe how the evaluation metric(s) are derived and provide an example of their mathematical representations (if applicable). Complex evaluation metrics should be clearly defined and quantifiable (can be expressed in mathematical or logical terms).\n",
    "\n",
    "One evaluation metric that can be used to quantify the performance of both the benchmark model and the solution model in the context of housing price prediction is Mean Squared Error (MSE).\n",
    "MSE calculates the average squared difference between the predicted values and the actual values. It measures the average magnitude of the error, with larger errors being penalized more heavily. \n",
    "\n",
    "MSE is derived by taking the average of the squared differences between the predicted and actual values:\n",
    "\n",
    "\\begin{align*}\n",
    "MSE = \\sum_{i=1}^{n}(y_i - \\hat{y}_i)^2\n",
    "\\end{align*}\n",
    "\n",
    "MSE is widely used in regression problems and provides a measure of the average prediction error. For example if given the following predictions from a model:\n",
    "| Acutal Price ($y$) | Predicted Price  ($\\hat{y}$)|\n",
    "|---|---|\n",
    "| 150000       | 155000          |\n",
    "| 180000       | 175000 |\n",
    "| 200000 | 195000|\n",
    "|220000 | 230000|\n",
    "|250000 | 240000|\n",
    "\n",
    "$MSE = \\frac{(155,000−150,000)^2 + (175,000−180,000)^2 + (195,000−200,000)^2 + (230,000−220,000)^2 + (240,000−250,000)^2}{5} = 175,000,000.$ \n",
    "\n",
    "This would mean that, on average, the predicted value of housing prices deviates from the the actual price by $\\sqrt{175,000,000} = 175,000$ dollars. We can use this evaluation metric to compare the performance of various models where a smaller MSE would typically represent better performance."
   ]
  },
  {
   "attachments": {},
   "cell_type": "markdown",
   "metadata": {},
   "source": [
    "# Ethics & Privacy"
   ]
  },
  {
   "attachments": {},
   "cell_type": "markdown",
   "metadata": {},
   "source": [
    "Ethical concerns:\n",
    "1. Are people's privacy being invaded during data collection\n",
    "2. How secure is the data of other people's properties\n",
    "3. Are people's identity at stake\n",
    "4. Is our dataset biased\n",
    "5. Is our model fair across all groups of datapoints\n",
    "\n",
    "Possible solutions:\n",
    "1. The data collectors are required to inform the residents about the data being collected and explicitly ask them for consent on whether the data can be collected or not\n",
    "2. We implement a system that erases all the data of the house when it is no longer need\n",
    "3. Personally identifiable will be minimized or not collected at all since they're not really needed in this case\n",
    "4. For our dataset, we can do a background check to see who provided and collected the data and if they're someone with credibility\n",
    "5. We can use different groups of data samples when testing our model so that we can average across all groups making it a less biased model\n"
   ]
  },
  {
   "attachments": {},
   "cell_type": "markdown",
   "metadata": {},
   "source": [
    "# Team Expectations "
   ]
  },
  {
   "attachments": {},
   "cell_type": "markdown",
   "metadata": {},
   "source": [
    "Put things here that cement how you will interact/communicate as a team, how you will handle conflict and difficulty, how you will handle making decisions and setting goals/schedule, how much work you expect from each other, how you will handle deadlines, etc...\n",
    "* Communication: respond in no more than 6 hours, expected to be reachable via iMessage or discord\n",
    "* Be able to devote enough time to meet deadlines within the appropriate time constraint\n",
    "* Atleast once a week agreement to meet\n",
    "* Be flexible to other ideas and changes\n",
    "* For conflict resolution: Try to avoid public confrontations and handle conflicts in private, otherwise group resolution will be necessary\n",
    "* Any further unresolved conflicts will be mentioned to the TA/Professor"
   ]
  },
  {
   "attachments": {},
   "cell_type": "markdown",
   "metadata": {},
   "source": [
    "# Project Timeline Proposal"
   ]
  },
  {
   "attachments": {},
   "cell_type": "markdown",
   "metadata": {},
   "source": [
    "Replace this with something meaningful that is appropriate for your needs. It doesn't have to be something that fits this format.  It doesn't have to be set in stone... \"no battle plan survives contact with the enemy\". But you need a battle plan nonetheless, and you need to keep it updated so you understand what you are trying to accomplish, who's responsible for what, and what the expected due dates are for each item.\n",
    "\n",
    "MEET EVERY FRIDAY\n",
    "\n",
    "| Meeting Date  | Meeting Time| Completed Before Meeting  | Discuss at Meeting |\n",
    "|---|---|---|---|\n",
    "| 5/12  |  4 PM |  Brainstorm topics/questions (all)  | Determine best form of communication; begin background research; Work on Proposal | \n",
    "| 5/17  | 4 PM  | Brainstorm topics/questions | Discuss ideal datasets; decide on final project topic; finalize proposal | \n",
    "| 5/19  |  4 PM |  Import & Wrangle Data | Discuss model selection; EDA; feature selection | \n",
    "| 5/26  | 4 PM  |  Train various models | Discuss model evaluation/various evaluation metrics   |\n",
    "| 6/2  | 4 PM  | Compute evaluation metrics | Discuss finalizing model selection and fine-tuning   |\n",
    "| 6/9  | 4 PM  | Finalize Model | Finish model evaluation; discuss analysis/takeaways |\n",
    "| 6/11  | 4 PM  | Complete final touches| Discuss/edit full project |\n"
   ]
  },
  {
   "attachments": {},
   "cell_type": "markdown",
   "metadata": {},
   "source": [
    "# Footnotes\n",
    "<a name=\"kcmcrew\"></a>1.[^](#kcm): KCM. (8 Nov 2022) The Majority of Americans Still View Homeownership as the American Dream. *Keeping Current Matters*. https://www.keepingcurrentmatters.com/2022/11/08/the-majority-of-americans-still-view-homeownership-as-the-american-dream/#:~:text=Over%20time%2C%20owning%20a%20home,homeownership%20with%20the%20'American%20dream <br>\n",
    "<a name=\"candiloro\"></a>2.[^](#candiloro): Candiloro, T. (28 Mar 2023) Home Prices vs. Inflation: Why Millennials Can't Afford Homes (2022 Data) *Anytime Estimate*. https://anytimeestimate.com/research/housing-prices-vs-inflation/#:~:text=Even%20since%20just%202000%2C%20home,exceeded%20overall%20inflation%20by%20168%25 <br>\n",
    "<a name=\"vise\"></a>3.[^](#vise): Visé de, D. (24 Jan 2023) Survey finds Americans wildly misinformed on housing market *The Hill*. https://thehill.com/business/3827057-survey-finds-americans-wildly-misinformed-on-housing-market/#:~:text=Nearly%2030%20million%20Americans%20plan,existing%20homes%20sold%20in%202021 <br>"
   ]
  }
 ],
 "metadata": {
  "kernelspec": {
   "display_name": "Python 3",
   "language": "python",
   "name": "python3"
  },
  "language_info": {
   "codemirror_mode": {
    "name": "ipython",
    "version": 3
   },
   "file_extension": ".py",
   "mimetype": "text/x-python",
   "name": "python",
   "nbconvert_exporter": "python",
   "pygments_lexer": "ipython3",
   "version": "3.10.11"
  }
 },
 "nbformat": 4,
 "nbformat_minor": 2
}
